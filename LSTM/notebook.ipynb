{
  "nbformat": 4,
  "nbformat_minor": 0,
  "metadata": {
    "colab": {
      "provenance": []
    },
    "kernelspec": {
      "name": "python3",
      "display_name": "Python 3"
    },
    "language_info": {
      "name": "python"
    },
    "accelerator": "GPU",
    "gpuClass": "standard"
  },
  "cells": [
    {
      "cell_type": "markdown",
      "source": [
        "# Lab 9 - projekt 4"
      ],
      "metadata": {
        "id": "TYbGtODUNDXC"
      }
    },
    {
      "cell_type": "code",
      "source": [
        "import torch\n",
        "import numpy as np\n",
        "import torch.nn as nn"
      ],
      "metadata": {
        "id": "NOhcltDmB9mx"
      },
      "execution_count": 1,
      "outputs": []
    },
    {
      "cell_type": "code",
      "source": [
        "device = torch.device('cuda') # torch.device('cpu')\n",
        "device"
      ],
      "metadata": {
        "colab": {
          "base_uri": "https://localhost:8080/"
        },
        "id": "10Xf9B0VpQpy",
        "outputId": "34620d10-3e1d-43cd-ffe2-40ca4969b021"
      },
      "execution_count": 2,
      "outputs": [
        {
          "output_type": "execute_result",
          "data": {
            "text/plain": [
              "device(type='cuda')"
            ]
          },
          "metadata": {},
          "execution_count": 2
        }
      ]
    },
    {
      "cell_type": "code",
      "source": [
        "if torch.cuda.is_available(): \n",
        "    torch.cuda.manual_seed(452)\n",
        "    torch.cuda.manual_seed_all(452)\n",
        "    \n",
        "torch.backends.cudnn.determinstic = True\n",
        "torch.backends.cudnn.benchmark = False\n",
        "torch.manual_seed(132)\n",
        "np.random.seed(31445)"
      ],
      "metadata": {
        "id": "dpvuj131h3KF"
      },
      "execution_count": 3,
      "outputs": []
    },
    {
      "cell_type": "code",
      "source": [
        "from google.colab import drive\n",
        "drive.mount('/content/gdrive')"
      ],
      "metadata": {
        "colab": {
          "base_uri": "https://localhost:8080/"
        },
        "id": "0PJ7yNpYBfda",
        "outputId": "b50ffadf-230d-42b8-dc4e-b1d0a448f1fc"
      },
      "execution_count": 4,
      "outputs": [
        {
          "output_type": "stream",
          "name": "stdout",
          "text": [
            "Mounted at /content/gdrive\n"
          ]
        }
      ]
    },
    {
      "cell_type": "code",
      "source": [
        "import pickle\n",
        "data = pickle.load( open( \"gdrive/MyDrive/SSNE/proj4/train.pkl\", \"rb\" ) )\n",
        "data = np.array(data)"
      ],
      "metadata": {
        "id": "JphwQpSuNVgZ",
        "colab": {
          "base_uri": "https://localhost:8080/"
        },
        "outputId": "4d5b9a11-8ccb-4332-af14-b03d6d22f774"
      },
      "execution_count": 5,
      "outputs": [
        {
          "output_type": "stream",
          "name": "stderr",
          "text": [
            "<ipython-input-5-44beaadec602>:3: VisibleDeprecationWarning: Creating an ndarray from ragged nested sequences (which is a list-or-tuple of lists-or-tuples-or ndarrays with different lengths or shapes) is deprecated. If you meant to do this, you must specify 'dtype=object' when creating the ndarray.\n",
            "  data = np.array(data)\n"
          ]
        }
      ]
    },
    {
      "cell_type": "code",
      "source": [
        "unique, counts = np.unique(np.array(data, dtype=tuple)[:,1], return_counts=True)\n",
        "print(unique, counts)"
      ],
      "metadata": {
        "colab": {
          "base_uri": "https://localhost:8080/"
        },
        "id": "ZVDU9WZ756zI",
        "outputId": "ed87a6cb-ab7f-43f6-d0b1-09587f2e3d1d"
      },
      "execution_count": 6,
      "outputs": [
        {
          "output_type": "stream",
          "name": "stdout",
          "text": [
            "[0 1 2 3 4] [1630  478  154  441  236]\n"
          ]
        }
      ]
    },
    {
      "cell_type": "code",
      "source": [
        "inputs = []\n",
        "for input, _ in data:\n",
        "  inputs.append(torch.from_numpy(input).float())\n",
        "targets = torch.from_numpy(data[:,1].astype(float)).float()"
      ],
      "metadata": {
        "id": "QIKYnJbJjxdE"
      },
      "execution_count": 7,
      "outputs": []
    },
    {
      "cell_type": "code",
      "source": [
        "from torch.utils.data import Dataset\n",
        "\n",
        "class VariableLenDataset(Dataset):\n",
        "    def __init__(self, in_data, target):\n",
        "        self.data = [(x, y) for x, y in zip(in_data, target)]      \n",
        "\n",
        "    def __len__(self):\n",
        "        return len(self.data)\n",
        "\n",
        "    def __getitem__(self, idx):\n",
        "        in_data, target = self.data[idx]\n",
        "        return in_data, target"
      ],
      "metadata": {
        "id": "30pbjZhS26bi"
      },
      "execution_count": 8,
      "outputs": []
    },
    {
      "cell_type": "code",
      "source": [
        "whole_set = VariableLenDataset(inputs, targets)"
      ],
      "metadata": {
        "id": "G0_AjOal4rKY"
      },
      "execution_count": 9,
      "outputs": []
    },
    {
      "cell_type": "code",
      "source": [
        "from torch.utils.data import random_split\n",
        "train_set_size = int(len(data) * 0.8)\n",
        "valid_set_size = len(data) - train_set_size\n",
        "train_set, valid_set = random_split(whole_set, [train_set_size, valid_set_size])\n",
        "print(len(train_set))"
      ],
      "metadata": {
        "id": "x4cF-ejWky8q",
        "colab": {
          "base_uri": "https://localhost:8080/"
        },
        "outputId": "378f2d7b-abaa-4ddf-cf2a-9b8617000d78"
      },
      "execution_count": 10,
      "outputs": [
        {
          "output_type": "stream",
          "name": "stdout",
          "text": [
            "2351\n"
          ]
        }
      ]
    },
    {
      "cell_type": "code",
      "execution_count": 11,
      "metadata": {
        "id": "AxAGe0B0O4Ss"
      },
      "outputs": [],
      "source": [
        "from torch.nn.utils.rnn import pad_sequence, pack_padded_sequence, pad_packed_sequence\n",
        "\n",
        "def pad_collate(batch, pad_value=0):\n",
        "    batch.sort(key=lambda t: len(t[0]), reverse=True)\n",
        "    xx, yy = zip(*batch)\n",
        "    x_lens = [len(x) for x in xx]\n",
        "    y_lens = [1 for y in yy]\n",
        "\n",
        "    xx_pad = pad_sequence(xx, batch_first=True, padding_value=pad_value)\n",
        "\n",
        "    return xx_pad, torch.stack((yy)), x_lens, y_lens"
      ]
    },
    {
      "cell_type": "code",
      "execution_count": 12,
      "metadata": {
        "id": "sY4Kv97uO4St"
      },
      "outputs": [],
      "source": [
        "from torch.utils.data import DataLoader\n",
        "train_loader = DataLoader(train_set, batch_size=64, shuffle=True, collate_fn=pad_collate)\n",
        "valid_loader = DataLoader(valid_set, batch_size=64, shuffle=False, drop_last=False, collate_fn=pad_collate)"
      ]
    },
    {
      "cell_type": "code",
      "source": [
        "class LSTM_Seq_Regressor(nn.Module):\n",
        "\n",
        "    def __init__(self, input_size, hidden_size, num_layers, out_size):\n",
        "        super().__init__()\n",
        "        self.num_layers = num_layers\n",
        "        self.hidden_size = hidden_size\n",
        "        self.proj_size = out_size\n",
        "        self.lstm = nn.LSTM(input_size = input_size, hidden_size = hidden_size, num_layers = num_layers, proj_size = out_size, dropout=0.5)\n",
        "        \n",
        "    def init_hidden(self, batch_size):\n",
        "        hidden = torch.zeros(self.num_layers, batch_size, self.proj_size)\n",
        "        state = torch.zeros(self.num_layers, batch_size, self.hidden_size)\n",
        "        return hidden, state\n",
        "    \n",
        "    def forward(self, x, hidden):\n",
        "        all_outputs, hidden = self.lstm(x, hidden)\n",
        "        return all_outputs, hidden\n",
        "    \n",
        "model = LSTM_Seq_Regressor(1, 200, 1, 5).to(device)\n",
        "model"
      ],
      "metadata": {
        "colab": {
          "base_uri": "https://localhost:8080/"
        },
        "id": "un8dGiQ2OFX0",
        "outputId": "4563bba4-00db-4ab5-a5b3-b22d1477810e"
      },
      "execution_count": 13,
      "outputs": [
        {
          "output_type": "stream",
          "name": "stderr",
          "text": [
            "/usr/local/lib/python3.8/dist-packages/torch/nn/modules/rnn.py:67: UserWarning: dropout option adds dropout after all but last recurrent layer, so non-zero dropout expects num_layers greater than 1, but got dropout=0.5 and num_layers=1\n",
            "  warnings.warn(\"dropout option adds dropout after all but last \"\n"
          ]
        },
        {
          "output_type": "execute_result",
          "data": {
            "text/plain": [
              "LSTM_Seq_Regressor(\n",
              "  (lstm): LSTM(1, 200, proj_size=5, dropout=0.5)\n",
              ")"
            ]
          },
          "metadata": {},
          "execution_count": 13
        }
      ]
    },
    {
      "cell_type": "code",
      "source": [
        "optimizer = torch.optim.Adam(model.parameters(), lr=1e-3)\n",
        "loss_fun = nn.CrossEntropyLoss()"
      ],
      "metadata": {
        "id": "495jKrk5pIRB"
      },
      "execution_count": 14,
      "outputs": []
    },
    {
      "cell_type": "code",
      "source": [
        "def getLastSeqItems(packed, sorted_lengths): # mine\n",
        "    sum_batch_sizes = torch.cat((\n",
        "        torch.zeros(2, dtype=torch.int64),\n",
        "        torch.cumsum(packed.batch_sizes, 0)\n",
        "    ))\n",
        "    last_seq_idxs = sum_batch_sizes[sorted_lengths] + torch.arange(len(sorted_lengths))\n",
        "    last_seq_items = packed.data[last_seq_idxs]\n",
        "    return last_seq_items"
      ],
      "metadata": {
        "id": "XtLZ2dfsZxdj"
      },
      "execution_count": 15,
      "outputs": []
    },
    {
      "cell_type": "code",
      "source": [
        "# Training loop\n",
        "epoch_iter = []\n",
        "loss_loss = []\n",
        "i = 1\n",
        "for epoch in range(160):\n",
        "    for x, targets, x_len, target_len in train_loader:\n",
        "        x = x.to(device).unsqueeze(2)\n",
        "\n",
        "        targets = targets.type(torch.LongTensor).to(device)\n",
        "        hidden, state = model.init_hidden(x.size(0))\n",
        "        hidden, state = hidden.to(device), state.to(device) \n",
        "        \n",
        "        x_packed = pack_padded_sequence(x, x_len, batch_first=True)\n",
        "        preds_packed, preds_packed_len = model(x_packed, (hidden, state))\n",
        "        preds = getLastSeqItems(preds_packed, x_len).squeeze(0)\n",
        "\n",
        "        optimizer.zero_grad()\n",
        "        loss = loss_fun(preds, targets)\n",
        "        loss.backward()\n",
        "        optimizer.step()\n",
        "    epoch_iter.append(i)\n",
        "    loss_loss.append(loss.item())\n",
        "    i += 1\n",
        "    if epoch % 10 == 0:\n",
        "        print(f\"Epoch: {epoch}, loss: {loss.item():.3}\")"
      ],
      "metadata": {
        "colab": {
          "base_uri": "https://localhost:8080/"
        },
        "id": "2LwcC3FioXXa",
        "outputId": "e3efe9c2-a3a0-432e-f92b-a8820b5ba0e3"
      },
      "execution_count": 16,
      "outputs": [
        {
          "output_type": "stream",
          "name": "stdout",
          "text": [
            "Epoch: 0, loss: 1.21\n",
            "Epoch: 10, loss: 1.12\n",
            "Epoch: 20, loss: 0.889\n",
            "Epoch: 30, loss: 0.721\n",
            "Epoch: 40, loss: 0.599\n",
            "Epoch: 50, loss: 0.881\n",
            "Epoch: 60, loss: 0.68\n",
            "Epoch: 70, loss: 0.5\n",
            "Epoch: 80, loss: 0.729\n",
            "Epoch: 90, loss: 0.854\n",
            "Epoch: 100, loss: 0.531\n",
            "Epoch: 110, loss: 0.534\n",
            "Epoch: 120, loss: 0.688\n",
            "Epoch: 130, loss: 0.675\n",
            "Epoch: 140, loss: 0.509\n",
            "Epoch: 150, loss: 0.553\n"
          ]
        }
      ]
    },
    {
      "cell_type": "code",
      "source": [
        "import matplotlib.pyplot as plt\n",
        "\n",
        "plt.figure(figsize=(15,8))\n",
        "plt.subplot(2,3,1)\n",
        "plt.title(\"Training Curve\")\n",
        "plt.plot(epoch_iter, loss_loss, label=\"Train\")\n",
        "plt.xlabel(\"Iterations\")\n",
        "plt.ylabel(\"Loss\")\n",
        "plt.show"
      ],
      "metadata": {
        "colab": {
          "base_uri": "https://localhost:8080/",
          "height": 294
        },
        "id": "QaYO3cV-uypZ",
        "outputId": "7f416076-312b-45a0-c65c-9a49082566e4"
      },
      "execution_count": 17,
      "outputs": [
        {
          "output_type": "execute_result",
          "data": {
            "text/plain": [
              "<function matplotlib.pyplot.show(*args, **kw)>"
            ]
          },
          "metadata": {},
          "execution_count": 17
        },
        {
          "output_type": "display_data",
          "data": {
            "text/plain": [
              "<Figure size 1080x576 with 1 Axes>"
            ],
            "image/png": "[encoded data removed]"
          },
          "metadata": {
            "needs_background": "light"
          }
        }
      ]
    },
    {
      "cell_type": "code",
      "source": [
        "def get_accuracy(loader):\n",
        "    model.eval()\n",
        "    true_preds = 0\n",
        "    all_preds = 0\n",
        "    with torch.no_grad():\n",
        "        for x, targets, x_len, target_len in loader:\n",
        "            x = x.to(device).unsqueeze(2)\n",
        "            targets = targets.to(device)\n",
        "            hidden, state = model.init_hidden(x.shape[0])\n",
        "            hidden, state = hidden.to(device), state.to(device)\n",
        "            \n",
        "            x_packed = pack_padded_sequence(x, x_len, batch_first=True)\n",
        "            preds_packed, _ = model(x_packed, (hidden, state))\n",
        "            preds = getLastSeqItems(preds_packed, x_len).squeeze(0)\n",
        "            true_preds += (torch.argmax(preds,1)==targets).sum().item()\n",
        "            all_preds += len(targets)\n",
        "    return true_preds/all_preds\n"
      ],
      "metadata": {
        "id": "sOCO7LnKL9as"
      },
      "execution_count": 18,
      "outputs": []
    },
    {
      "cell_type": "code",
      "source": [
        "print(f\"Train dataset accuraccy: {get_accuracy(train_loader)}\")\n",
        "print(f\"Validation dataset accuracy: {get_accuracy(valid_loader)}\")"
      ],
      "metadata": {
        "colab": {
          "base_uri": "https://localhost:8080/"
        },
        "id": "vTP4Ht_sOLKk",
        "outputId": "4712f06f-d4a1-4101-db4c-4ea388c74d63"
      },
      "execution_count": 19,
      "outputs": [
        {
          "output_type": "stream",
          "name": "stdout",
          "text": [
            "Train dataset accuraccy: 0.8575074436410038\n",
            "Validation dataset accuracy: 0.7517006802721088\n"
          ]
        }
      ]
    },
    {
      "cell_type": "markdown",
      "source": [
        "# Test data classification"
      ],
      "metadata": {
        "id": "q9vDo6lxOrUW"
      }
    },
    {
      "cell_type": "code",
      "source": [
        "test_data = pickle.load( open( \"gdrive/MyDrive/SSNE/proj4/test_no_target.pkl\", \"rb\" ) )\n",
        "test_data = np.array(test_data)"
      ],
      "metadata": {
        "colab": {
          "base_uri": "https://localhost:8080/"
        },
        "id": "UP_h37jqDSL4",
        "outputId": "91d5fd54-e19c-455e-c50a-3f6536b32ca5"
      },
      "execution_count": 20,
      "outputs": [
        {
          "output_type": "stream",
          "name": "stderr",
          "text": [
            "<ipython-input-20-17722c0f24fe>:2: VisibleDeprecationWarning: Creating an ndarray from ragged nested sequences (which is a list-or-tuple of lists-or-tuples-or ndarrays with different lengths or shapes) is deprecated. If you meant to do this, you must specify 'dtype=object' when creating the ndarray.\n",
            "  test_data = np.array(test_data)\n"
          ]
        }
      ]
    },
    {
      "cell_type": "code",
      "source": [
        "test_data.size"
      ],
      "metadata": {
        "colab": {
          "base_uri": "https://localhost:8080/"
        },
        "id": "oNFXmg3uwoNg",
        "outputId": "6b9d6870-4e13-4822-c757-310ecd1e63f6"
      },
      "execution_count": 27,
      "outputs": [
        {
          "output_type": "execute_result",
          "data": {
            "text/plain": [
              "1103"
            ]
          },
          "metadata": {},
          "execution_count": 27
        }
      ]
    },
    {
      "cell_type": "code",
      "source": [
        "test_inputs = []\n",
        "for input in test_data:\n",
        "    test_inputs.append(torch.from_numpy(input).float())\n",
        "test_inputs\n",
        "zeros = []\n",
        "for z in range(len(test_inputs)):\n",
        "    zeros.append(torch.tensor(0,dtype=float))\n",
        "test_targets = torch.from_numpy(np.asarray(zeros))"
      ],
      "metadata": {
        "id": "OAC8ibAtRhQC"
      },
      "execution_count": 21,
      "outputs": []
    },
    {
      "cell_type": "code",
      "source": [
        "test_dataset = VariableLenDataset(test_inputs, test_targets)"
      ],
      "metadata": {
        "id": "naLr-zwbINcj"
      },
      "execution_count": 22,
      "outputs": []
    },
    {
      "cell_type": "code",
      "source": [
        "test_loader = DataLoader(test_dataset, batch_size=64, shuffle=False, drop_last=False, collate_fn=pad_collate)"
      ],
      "metadata": {
        "id": "e2-PoaT_JG7I"
      },
      "execution_count": 23,
      "outputs": []
    },
    {
      "cell_type": "code",
      "source": [
        "predictions = []\n",
        "model.eval()\n",
        "with torch.no_grad():\n",
        "    for x, targets, x_len, target_len in test_loader:\n",
        "        x = x.to(device).unsqueeze(2)\n",
        "        targets = targets.to(device)\n",
        "        hidden, state = model.init_hidden(x.shape[0])\n",
        "        hidden, state = hidden.to(device), state.to(device)\n",
        "        hidden, state = hidden.float(), state.float()\n",
        "\n",
        "        x_packed = pack_padded_sequence(x, x_len, batch_first=True)\n",
        "        preds_packed, _ = model(x_packed, (hidden, state))\n",
        "        preds = getLastSeqItems(preds_packed, x_len).squeeze(0)\n",
        "\n",
        "        predictions.append(torch.argmax(preds,1))"
      ],
      "metadata": {
        "id": "RRv2CcWLDH2P"
      },
      "execution_count": 24,
      "outputs": []
    },
    {
      "cell_type": "code",
      "source": [
        "import csv\n",
        "with open(\"/content/gdrive/MyDrive/SSNE/proj4/piatek_bielak_nitkiewicz.csv\",\"w\",newline='') as f:\n",
        "    csv_writer = csv.writer(f, delimiter=\",\")\n",
        "    for batch in predictions:\n",
        "        for p in batch:\n",
        "            csv_writer.writerow([p.data.item()])"
      ],
      "metadata": {
        "id": "L_7WbUR8dQS4"
      },
      "execution_count": 25,
      "outputs": []
    },
    {
      "cell_type": "code",
      "source": [
        "torch.save(model.state_dict(), \"/content/gdrive/MyDrive/SSNE/proj4/model_75_final\")"
      ],
      "metadata": {
        "id": "rut8pu3W3ezm"
      },
      "execution_count": 26,
      "outputs": []
    }
  ]
}