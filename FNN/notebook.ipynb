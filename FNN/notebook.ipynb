{
  "nbformat": 4,
  "nbformat_minor": 0,
  "metadata": {
    "colab": {
      "provenance": [],
      "collapsed_sections": []
    },
    "kernelspec": {
      "name": "python3",
      "display_name": "Python 3"
    },
    "language_info": {
      "name": "python"
    },
    "accelerator": "GPU",
    "gpuClass": "standard"
  },
  "cells": [
    {
      "cell_type": "code",
      "source": [
        "import torch, torchvision\n",
        "from torchvision import transforms\n",
        "import torch.nn as nn\n",
        "import torch.optim as optim\n",
        "import torch.functional as F\n",
        "import numpy as np\n",
        "import pandas as pd\n",
        "import torch.utils.data as data\n",
        "import seaborn as sns\n",
        "import matplotlib.pyplot as plt"
      ],
      "metadata": {
        "id": "6t1Hj7vqAxGz"
      },
      "execution_count": 684,
      "outputs": []
    },
    {
      "cell_type": "code",
      "source": [
        "device = torch.device(\"cuda\") "
      ],
      "metadata": {
        "id": "UAdDeDGEMPOm"
      },
      "execution_count": 685,
      "outputs": []
    },
    {
      "cell_type": "code",
      "source": [
        "if torch.cuda.is_available(): \n",
        "    torch.cuda.manual_seed(42)\n",
        "    torch.cuda.manual_seed_all(42)\n",
        "    \n",
        "torch.backends.cudnn.determinstic = True\n",
        "torch.backends.cudnn.benchmark = False\n",
        "torch.manual_seed(1)\n",
        "np.random.seed(31415)"
      ],
      "metadata": {
        "id": "moKIoAhUMPs-"
      },
      "execution_count": 686,
      "outputs": []
    },
    {
      "cell_type": "code",
      "source": [
        "import pandas as pd\n",
        "df = pd.read_csv('/content/train_data.csv', delimiter=\",\")\n",
        "test = pd.read_csv('/content/test_data.csv', delimiter=\",\")\n",
        "df"
      ],
      "metadata": {
        "id": "OhVA6xjEWb2h",
        "colab": {
          "base_uri": "https://localhost:8080/",
          "height": 487
        },
        "outputId": "667e6040-86a2-4806-ba7e-60baba53035b"
      },
      "execution_count": 687,
      "outputs": [
        {
          "output_type": "execute_result",
          "data": {
            "text/plain": [
              "      SalePrice  YearBuilt  Size(sqf)  Floor HallwayType         HeatingType  \\\n",
              "0        141592       2006        814      3    terraced  individual_heating   \n",
              "1         51327       1985        587      8    corridor  individual_heating   \n",
              "2         48672       1985        587      6    corridor  individual_heating   \n",
              "3        380530       2006       2056      8    terraced  individual_heating   \n",
              "4         78318       1992        644      2       mixed  individual_heating   \n",
              "...         ...        ...        ...    ...         ...                 ...   \n",
              "4119     570796       2007       1928     24    terraced  individual_heating   \n",
              "4120     307079       2015        644     22    terraced  individual_heating   \n",
              "4121     357522       2007        868     20    terraced  individual_heating   \n",
              "4122     312389       1978       1327      1    corridor  individual_heating   \n",
              "4123     393805       2007        868     13    terraced  individual_heating   \n",
              "\n",
              "            AptManageType  N_Parkinglot(Ground)  N_Parkinglot(Basement)  \\\n",
              "0     management_in_trust                 111.0                   184.0   \n",
              "1         self_management                  80.0                    76.0   \n",
              "2         self_management                  80.0                    76.0   \n",
              "3     management_in_trust                 249.0                   536.0   \n",
              "4         self_management                 142.0                    79.0   \n",
              "...                   ...                   ...                     ...   \n",
              "4119  management_in_trust                   0.0                  1270.0   \n",
              "4120  management_in_trust                 102.0                   400.0   \n",
              "4121  management_in_trust                   0.0                  1270.0   \n",
              "4122      self_management                  87.0                     0.0   \n",
              "4123  management_in_trust                   0.0                  1270.0   \n",
              "\n",
              "     TimeToBusStop TimeToSubway  N_manager  N_elevators  \\\n",
              "0       5min~10min  10min~15min        3.0          0.0   \n",
              "1           0~5min   5min~10min        2.0          2.0   \n",
              "2           0~5min   5min~10min        2.0          2.0   \n",
              "3           0~5min       0-5min        5.0         11.0   \n",
              "4       5min~10min  15min~20min        4.0          8.0   \n",
              "...            ...          ...        ...          ...   \n",
              "4119        0~5min       0-5min       14.0         16.0   \n",
              "4120        0~5min   5min~10min        5.0         10.0   \n",
              "4121        0~5min       0-5min       14.0         16.0   \n",
              "4122        0~5min       0-5min        1.0          4.0   \n",
              "4123        0~5min       0-5min       14.0         16.0   \n",
              "\n",
              "              SubwayStation  N_FacilitiesInApt  N_FacilitiesNearBy(Total)  \\\n",
              "0     Kyungbuk_uni_hospital                  5                        6.0   \n",
              "1                     Daegu                  3                       12.0   \n",
              "2                     Daegu                  3                       12.0   \n",
              "3                   Sin-nam                  5                        3.0   \n",
              "4                 Myung-duk                  3                        9.0   \n",
              "...                     ...                ...                        ...   \n",
              "4119  Kyungbuk_uni_hospital                 10                        9.0   \n",
              "4120                  Daegu                  7                        7.0   \n",
              "4121  Kyungbuk_uni_hospital                 10                        9.0   \n",
              "4122  Kyungbuk_uni_hospital                  3                        7.0   \n",
              "4123  Kyungbuk_uni_hospital                 10                        9.0   \n",
              "\n",
              "      N_SchoolNearBy(Total)  \n",
              "0                       9.0  \n",
              "1                       4.0  \n",
              "2                       4.0  \n",
              "3                       7.0  \n",
              "4                      14.0  \n",
              "...                     ...  \n",
              "4119                   10.0  \n",
              "4120                   11.0  \n",
              "4121                   10.0  \n",
              "4122                   11.0  \n",
              "4123                   10.0  \n",
              "\n",
              "[4124 rows x 17 columns]"
            ],
            "text/html": [
              "\n",
              "  <div id=\"df-f0916070-f22b-4ef2-9f05-7b4f5a010297\">\n",
              "    <div class=\"colab-df-container\">\n",
              "      <div>\n",
              "<style scoped>\n",
              "    .dataframe tbody tr th:only-of-type {\n",
              "        vertical-align: middle;\n",
              "    }\n",
              "\n",
              "    .dataframe tbody tr th {\n",
              "        vertical-align: top;\n",
              "    }\n",
              "\n",
              "    .dataframe thead th {\n",
              "        text-align: right;\n",
              "    }\n",
              "</style>\n",
              "<table border=\"1\" class=\"dataframe\">\n",
              "  <thead>\n",
              "    <tr style=\"text-align: right;\">\n",
              "      <th></th>\n",
              "      <th>SalePrice</th>\n",
              "      <th>YearBuilt</th>\n",
              "      <th>Size(sqf)</th>\n",
              "      <th>Floor</th>\n",
              "      <th>HallwayType</th>\n",
              "      <th>HeatingType</th>\n",
              "      <th>AptManageType</th>\n",
              "      <th>N_Parkinglot(Ground)</th>\n",
              "      <th>N_Parkinglot(Basement)</th>\n",
              "      <th>TimeToBusStop</th>\n",
              "      <th>TimeToSubway</th>\n",
              "      <th>N_manager</th>\n",
              "      <th>N_elevators</th>\n",
              "      <th>SubwayStation</th>\n",
              "      <th>N_FacilitiesInApt</th>\n",
              "      <th>N_FacilitiesNearBy(Total)</th>\n",
              "      <th>N_SchoolNearBy(Total)</th>\n",
              "    </tr>\n",
              "  </thead>\n",
              "  <tbody>\n",
              "    <tr>\n",
              "      <th>0</th>\n",
              "      <td>141592</td>\n",
              "      <td>2006</td>\n",
              "      <td>814</td>\n",
              "      <td>3</td>\n",
              "      <td>terraced</td>\n",
              "      <td>individual_heating</td>\n",
              "      <td>management_in_trust</td>\n",
              "      <td>111.0</td>\n",
              "      <td>184.0</td>\n",
              "      <td>5min~10min</td>\n",
              "      <td>10min~15min</td>\n",
              "      <td>3.0</td>\n",
              "      <td>0.0</td>\n",
              "      <td>Kyungbuk_uni_hospital</td>\n",
              "      <td>5</td>\n",
              "      <td>6.0</td>\n",
              "      <td>9.0</td>\n",
              "    </tr>\n",
              "    <tr>\n",
              "      <th>1</th>\n",
              "      <td>51327</td>\n",
              "      <td>1985</td>\n",
              "      <td>587</td>\n",
              "      <td>8</td>\n",
              "      <td>corridor</td>\n",
              "      <td>individual_heating</td>\n",
              "      <td>self_management</td>\n",
              "      <td>80.0</td>\n",
              "      <td>76.0</td>\n",
              "      <td>0~5min</td>\n",
              "      <td>5min~10min</td>\n",
              "      <td>2.0</td>\n",
              "      <td>2.0</td>\n",
              "      <td>Daegu</td>\n",
              "      <td>3</td>\n",
              "      <td>12.0</td>\n",
              "      <td>4.0</td>\n",
              "    </tr>\n",
              "    <tr>\n",
              "      <th>2</th>\n",
              "      <td>48672</td>\n",
              "      <td>1985</td>\n",
              "      <td>587</td>\n",
              "      <td>6</td>\n",
              "      <td>corridor</td>\n",
              "      <td>individual_heating</td>\n",
              "      <td>self_management</td>\n",
              "      <td>80.0</td>\n",
              "      <td>76.0</td>\n",
              "      <td>0~5min</td>\n",
              "      <td>5min~10min</td>\n",
              "      <td>2.0</td>\n",
              "      <td>2.0</td>\n",
              "      <td>Daegu</td>\n",
              "      <td>3</td>\n",
              "      <td>12.0</td>\n",
              "      <td>4.0</td>\n",
              "    </tr>\n",
              "    <tr>\n",
              "      <th>3</th>\n",
              "      <td>380530</td>\n",
              "      <td>2006</td>\n",
              "      <td>2056</td>\n",
              "      <td>8</td>\n",
              "      <td>terraced</td>\n",
              "      <td>individual_heating</td>\n",
              "      <td>management_in_trust</td>\n",
              "      <td>249.0</td>\n",
              "      <td>536.0</td>\n",
              "      <td>0~5min</td>\n",
              "      <td>0-5min</td>\n",
              "      <td>5.0</td>\n",
              "      <td>11.0</td>\n",
              "      <td>Sin-nam</td>\n",
              "      <td>5</td>\n",
              "      <td>3.0</td>\n",
              "      <td>7.0</td>\n",
              "    </tr>\n",
              "    <tr>\n",
              "      <th>4</th>\n",
              "      <td>78318</td>\n",
              "      <td>1992</td>\n",
              "      <td>644</td>\n",
              "      <td>2</td>\n",
              "      <td>mixed</td>\n",
              "      <td>individual_heating</td>\n",
              "      <td>self_management</td>\n",
              "      <td>142.0</td>\n",
              "      <td>79.0</td>\n",
              "      <td>5min~10min</td>\n",
              "      <td>15min~20min</td>\n",
              "      <td>4.0</td>\n",
              "      <td>8.0</td>\n",
              "      <td>Myung-duk</td>\n",
              "      <td>3</td>\n",
              "      <td>9.0</td>\n",
              "      <td>14.0</td>\n",
              "    </tr>\n",
              "    <tr>\n",
              "      <th>...</th>\n",
              "      <td>...</td>\n",
              "      <td>...</td>\n",
              "      <td>...</td>\n",
              "      <td>...</td>\n",
              "      <td>...</td>\n",
              "      <td>...</td>\n",
              "      <td>...</td>\n",
              "      <td>...</td>\n",
              "      <td>...</td>\n",
              "      <td>...</td>\n",
              "      <td>...</td>\n",
              "      <td>...</td>\n",
              "      <td>...</td>\n",
              "      <td>...</td>\n",
              "      <td>...</td>\n",
              "      <td>...</td>\n",
              "      <td>...</td>\n",
              "    </tr>\n",
              "    <tr>\n",
              "      <th>4119</th>\n",
              "      <td>570796</td>\n",
              "      <td>2007</td>\n",
              "      <td>1928</td>\n",
              "      <td>24</td>\n",
              "      <td>terraced</td>\n",
              "      <td>individual_heating</td>\n",
              "      <td>management_in_trust</td>\n",
              "      <td>0.0</td>\n",
              "      <td>1270.0</td>\n",
              "      <td>0~5min</td>\n",
              "      <td>0-5min</td>\n",
              "      <td>14.0</td>\n",
              "      <td>16.0</td>\n",
              "      <td>Kyungbuk_uni_hospital</td>\n",
              "      <td>10</td>\n",
              "      <td>9.0</td>\n",
              "      <td>10.0</td>\n",
              "    </tr>\n",
              "    <tr>\n",
              "      <th>4120</th>\n",
              "      <td>307079</td>\n",
              "      <td>2015</td>\n",
              "      <td>644</td>\n",
              "      <td>22</td>\n",
              "      <td>terraced</td>\n",
              "      <td>individual_heating</td>\n",
              "      <td>management_in_trust</td>\n",
              "      <td>102.0</td>\n",
              "      <td>400.0</td>\n",
              "      <td>0~5min</td>\n",
              "      <td>5min~10min</td>\n",
              "      <td>5.0</td>\n",
              "      <td>10.0</td>\n",
              "      <td>Daegu</td>\n",
              "      <td>7</td>\n",
              "      <td>7.0</td>\n",
              "      <td>11.0</td>\n",
              "    </tr>\n",
              "    <tr>\n",
              "      <th>4121</th>\n",
              "      <td>357522</td>\n",
              "      <td>2007</td>\n",
              "      <td>868</td>\n",
              "      <td>20</td>\n",
              "      <td>terraced</td>\n",
              "      <td>individual_heating</td>\n",
              "      <td>management_in_trust</td>\n",
              "      <td>0.0</td>\n",
              "      <td>1270.0</td>\n",
              "      <td>0~5min</td>\n",
              "      <td>0-5min</td>\n",
              "      <td>14.0</td>\n",
              "      <td>16.0</td>\n",
              "      <td>Kyungbuk_uni_hospital</td>\n",
              "      <td>10</td>\n",
              "      <td>9.0</td>\n",
              "      <td>10.0</td>\n",
              "    </tr>\n",
              "    <tr>\n",
              "      <th>4122</th>\n",
              "      <td>312389</td>\n",
              "      <td>1978</td>\n",
              "      <td>1327</td>\n",
              "      <td>1</td>\n",
              "      <td>corridor</td>\n",
              "      <td>individual_heating</td>\n",
              "      <td>self_management</td>\n",
              "      <td>87.0</td>\n",
              "      <td>0.0</td>\n",
              "      <td>0~5min</td>\n",
              "      <td>0-5min</td>\n",
              "      <td>1.0</td>\n",
              "      <td>4.0</td>\n",
              "      <td>Kyungbuk_uni_hospital</td>\n",
              "      <td>3</td>\n",
              "      <td>7.0</td>\n",
              "      <td>11.0</td>\n",
              "    </tr>\n",
              "    <tr>\n",
              "      <th>4123</th>\n",
              "      <td>393805</td>\n",
              "      <td>2007</td>\n",
              "      <td>868</td>\n",
              "      <td>13</td>\n",
              "      <td>terraced</td>\n",
              "      <td>individual_heating</td>\n",
              "      <td>management_in_trust</td>\n",
              "      <td>0.0</td>\n",
              "      <td>1270.0</td>\n",
              "      <td>0~5min</td>\n",
              "      <td>0-5min</td>\n",
              "      <td>14.0</td>\n",
              "      <td>16.0</td>\n",
              "      <td>Kyungbuk_uni_hospital</td>\n",
              "      <td>10</td>\n",
              "      <td>9.0</td>\n",
              "      <td>10.0</td>\n",
              "    </tr>\n",
              "  </tbody>\n",
              "</table>\n",
              "<p>4124 rows × 17 columns</p>\n",
              "</div>\n",
              "      <button class=\"colab-df-convert\" onclick=\"convertToInteractive('df-f0916070-f22b-4ef2-9f05-7b4f5a010297')\"\n",
              "              title=\"Convert this dataframe to an interactive table.\"\n",
              "              style=\"display:none;\">\n",
              "        \n",
              "  <svg xmlns=\"http://www.w3.org/2000/svg\" height=\"24px\"viewBox=\"0 0 24 24\"\n",
              "       width=\"24px\">\n",
              "    <path d=\"M0 0h24v24H0V0z\" fill=\"none\"/>\n",
              "    <path d=\"M18.56 5.44l.94 2.06.94-2.06 2.06-.94-2.06-.94-.94-2.06-.94 2.06-2.06.94zm-11 1L8.5 8.5l.94-2.06 2.06-.94-2.06-.94L8.5 2.5l-.94 2.06-2.06.94zm10 10l.94 2.06.94-2.06 2.06-.94-2.06-.94-.94-2.06-.94 2.06-2.06.94z\"/><path d=\"M17.41 7.96l-1.37-1.37c-.4-.4-.92-.59-1.43-.59-.52 0-1.04.2-1.43.59L10.3 9.45l-7.72 7.72c-.78.78-.78 2.05 0 2.83L4 21.41c.39.39.9.59 1.41.59.51 0 1.02-.2 1.41-.59l7.78-7.78 2.81-2.81c.8-.78.8-2.07 0-2.86zM5.41 20L4 18.59l7.72-7.72 1.47 1.35L5.41 20z\"/>\n",
              "  </svg>\n",
              "      </button>\n",
              "      \n",
              "  <style>\n",
              "    .colab-df-container {\n",
              "      display:flex;\n",
              "      flex-wrap:wrap;\n",
              "      gap: 12px;\n",
              "    }\n",
              "\n",
              "    .colab-df-convert {\n",
              "      background-color: #E8F0FE;\n",
              "      border: none;\n",
              "      border-radius: 50%;\n",
              "      cursor: pointer;\n",
              "      display: none;\n",
              "      fill: #1967D2;\n",
              "      height: 32px;\n",
              "      padding: 0 0 0 0;\n",
              "      width: 32px;\n",
              "    }\n",
              "\n",
              "    .colab-df-convert:hover {\n",
              "      background-color: #E2EBFA;\n",
              "      box-shadow: 0px 1px 2px rgba(60, 64, 67, 0.3), 0px 1px 3px 1px rgba(60, 64, 67, 0.15);\n",
              "      fill: #174EA6;\n",
              "    }\n",
              "\n",
              "    [theme=dark] .colab-df-convert {\n",
              "      background-color: #3B4455;\n",
              "      fill: #D2E3FC;\n",
              "    }\n",
              "\n",
              "    [theme=dark] .colab-df-convert:hover {\n",
              "      background-color: #434B5C;\n",
              "      box-shadow: 0px 1px 3px 1px rgba(0, 0, 0, 0.15);\n",
              "      filter: drop-shadow(0px 1px 2px rgba(0, 0, 0, 0.3));\n",
              "      fill: #FFFFFF;\n",
              "    }\n",
              "  </style>\n",
              "\n",
              "      <script>\n",
              "        const buttonEl =\n",
              "          document.querySelector('#df-f0916070-f22b-4ef2-9f05-7b4f5a010297 button.colab-df-convert');\n",
              "        buttonEl.style.display =\n",
              "          google.colab.kernel.accessAllowed ? 'block' : 'none';\n",
              "\n",
              "        async function convertToInteractive(key) {\n",
              "          const element = document.querySelector('#df-f0916070-f22b-4ef2-9f05-7b4f5a010297');\n",
              "          const dataTable =\n",
              "            await google.colab.kernel.invokeFunction('convertToInteractive',\n",
              "                                                     [key], {});\n",
              "          if (!dataTable) return;\n",
              "\n",
              "          const docLinkHtml = 'Like what you see? Visit the ' +\n",
              "            '<a target=\"_blank\" href=https://colab.research.google.com/notebooks/data_table.ipynb>data table notebook</a>'\n",
              "            + ' to learn more about interactive tables.';\n",
              "          element.innerHTML = '';\n",
              "          dataTable['output_type'] = 'display_data';\n",
              "          await google.colab.output.renderOutput(dataTable, element);\n",
              "          const docLink = document.createElement('div');\n",
              "          docLink.innerHTML = docLinkHtml;\n",
              "          element.appendChild(docLink);\n",
              "        }\n",
              "      </script>\n",
              "    </div>\n",
              "  </div>\n",
              "  "
            ]
          },
          "metadata": {},
          "execution_count": 687
        }
      ]
    },
    {
      "cell_type": "code",
      "source": [
        "def changePeriodsColToMean(df):\n",
        "  new = pd.DataFrame()\n",
        "  new[['TimeToBusStopF','TimeToBusStopE']] = df['TimeToBusStop'].str.replace('min', '').str.split('~',expand=True)\n",
        "  df['TimeToBusStop'] = (new['TimeToBusStopF'].astype(float) + new['TimeToBusStopE'].astype(float)) / 2\n",
        "  new[['TimeToSubwayF','TimeToSubwayE']] = df['TimeToSubway'].str.replace('min', '')\\\n",
        "  .str.replace('-', '~').str.replace('no_bus_stop_nearby', '20~20').str.split('~',expand=True)\n",
        "  df['TimeToSubway'] = (new['TimeToSubwayF'].astype(float) + new['TimeToSubwayE'].astype(float)) / 2\n",
        "  return df"
      ],
      "metadata": {
        "id": "LfKktGntsrKa"
      },
      "execution_count": 688,
      "outputs": []
    },
    {
      "cell_type": "code",
      "execution_count": 689,
      "metadata": {
        "ExecuteTime": {
          "end_time": "2021-10-09T06:59:23.179548Z",
          "start_time": "2021-10-09T06:59:21.774040Z"
        },
        "id": "pZXSlivzO5Ss"
      },
      "outputs": [],
      "source": [
        "df = changePeriodsColToMean(df)\n",
        "test = changePeriodsColToMean(test)"
      ]
    },
    {
      "cell_type": "code",
      "source": [
        "train=df.sample(frac=0.8,random_state=200)\n",
        "val=df.drop(train.index)"
      ],
      "metadata": {
        "id": "Y7ly-Vo8VmS3"
      },
      "execution_count": 690,
      "outputs": []
    },
    {
      "cell_type": "code",
      "source": [
        "cont_cols = [\"YearBuilt\", \"Size(sqf)\", \"Floor\", \"N_Parkinglot(Ground)\",\\\n",
        "             \"N_Parkinglot(Basement)\", \"TimeToBusStop\", \"TimeToSubway\",\\\n",
        "             \"N_manager\", \"N_elevators\", \"N_FacilitiesInApt\",\\\n",
        "             \"N_FacilitiesNearBy(Total)\", \"N_SchoolNearBy(Total)\"]\n",
        "             \n",
        "cat_cols = [\"HallwayType\", \"HeatingType\", \"AptManageType\", \"SubwayStation\"]"
      ],
      "metadata": {
        "id": "8SEpjHE-S_Rv"
      },
      "execution_count": 691,
      "outputs": []
    },
    {
      "cell_type": "code",
      "source": [
        "from sklearn import preprocessing\n",
        "from sklearn.preprocessing import StandardScaler, OneHotEncoder"
      ],
      "metadata": {
        "id": "2oU9f1O6nXfl"
      },
      "execution_count": 692,
      "outputs": []
    },
    {
      "cell_type": "code",
      "source": [
        "scaler = StandardScaler()\n",
        "ohe    = OneHotEncoder(sparse=False)\n",
        "scaled_columns  = scaler.fit_transform(train[cont_cols]) \n",
        "encoded_columns = ohe.fit_transform(train[cat_cols])\n",
        "processed_data = np.concatenate([scaled_columns, encoded_columns], axis=1)\n",
        "\n",
        "scaled_columns_val  = scaler.transform(val[cont_cols]) \n",
        "encoded_columns_val = ohe.transform(val[cat_cols])\n",
        "processed_data_val = np.concatenate([scaled_columns_val, encoded_columns_val], axis=1)\n",
        "\n",
        "scaled_columns_test  = scaler.transform(test[cont_cols]) \n",
        "encoded_columns_test = ohe.transform(test[cat_cols])\n",
        "processed_data_test = np.concatenate([scaled_columns_test, encoded_columns_test], axis=1)"
      ],
      "metadata": {
        "id": "LBdFcM5DjgNQ"
      },
      "execution_count": 693,
      "outputs": []
    },
    {
      "cell_type": "code",
      "source": [
        "processed_data[0]"
      ],
      "metadata": {
        "colab": {
          "base_uri": "https://localhost:8080/"
        },
        "id": "dL9mOLjl7ZcP",
        "outputId": "c37b9362-a267-4210-e9c1-23e1d44833b7"
      },
      "execution_count": 694,
      "outputs": [
        {
          "output_type": "execute_result",
          "data": {
            "text/plain": [
              "array([ 1.26359555, -0.11469587,  0.40356448, -0.48825664,  1.49064319,\n",
              "       -0.54157441, -0.88720075,  0.22572937,  1.16115186,  1.38668924,\n",
              "        1.19818537,  1.37578284,  0.        ,  0.        ,  1.        ,\n",
              "        0.        ,  1.        ,  1.        ,  0.        ,  0.        ,\n",
              "        0.        ,  0.        ,  0.        ,  0.        ,  1.        ,\n",
              "        0.        ,  0.        ])"
            ]
          },
          "metadata": {},
          "execution_count": 694
        }
      ]
    },
    {
      "cell_type": "code",
      "source": [
        "def classifyPrices(prices):\n",
        "  pricesTen = torch.from_numpy(prices).float().to(device)\n",
        "  return torch.where(pricesTen <= 1e5, torch.tensor(0.).to(device),\\\n",
        "                      torch.where(pricesTen <= 3.5e5, torch.tensor(1.).to(device),\\\n",
        "                                  torch.tensor(2.).to(device)))"
      ],
      "metadata": {
        "id": "m9x3UM2rEE6k"
      },
      "execution_count": 695,
      "outputs": []
    },
    {
      "cell_type": "code",
      "source": [
        "pricesTrain = classifyPrices(train.values[:,0].astype(float)).float()\n",
        "pricesVal = classifyPrices(val.values[:,0].astype(float)).float()\n",
        "pricesTrain"
      ],
      "metadata": {
        "colab": {
          "base_uri": "https://localhost:8080/"
        },
        "id": "H0Rbws5jEFnZ",
        "outputId": "11b977da-6b54-4094-c76f-2b14aff61f9a"
      },
      "execution_count": 696,
      "outputs": [
        {
          "output_type": "execute_result",
          "data": {
            "text/plain": [
              "tensor([2., 1., 0.,  ..., 1., 1., 1.], device='cuda:0')"
            ]
          },
          "metadata": {},
          "execution_count": 696
        }
      ]
    },
    {
      "cell_type": "code",
      "source": [
        "train_dataset = data.TensorDataset(torch.from_numpy(processed_data).float(), pricesTrain)\n",
        "val_dataset = data.TensorDataset(torch.from_numpy(processed_data_val).float(), pricesVal)"
      ],
      "metadata": {
        "id": "EXfDAlf4qvg5"
      },
      "execution_count": 697,
      "outputs": []
    },
    {
      "cell_type": "code",
      "source": [
        "print(processed_data.shape)\n",
        "print(processed_data_val.shape)"
      ],
      "metadata": {
        "colab": {
          "base_uri": "https://localhost:8080/"
        },
        "id": "nS3A1ww80PFm",
        "outputId": "62a4d646-fe55-45e3-b7f5-7eb329402e3d"
      },
      "execution_count": 698,
      "outputs": [
        {
          "output_type": "stream",
          "name": "stdout",
          "text": [
            "(3299, 27)\n",
            "(825, 27)\n"
          ]
        }
      ]
    },
    {
      "cell_type": "code",
      "source": [
        "batch_size=512\n",
        "train_data_loader  = data.DataLoader(train_dataset, batch_size=batch_size, shuffle=True)"
      ],
      "metadata": {
        "id": "KHbLXXaRvIC4"
      },
      "execution_count": 699,
      "outputs": []
    },
    {
      "cell_type": "code",
      "source": [
        "class MyNetBN(nn.Module):\n",
        "    def __init__(self): \n",
        "        super().__init__()\n",
        "        self.lin1 = nn.Linear(27, 64) \n",
        "        self.bn1 =  nn.BatchNorm1d(64)\n",
        "        self.d1 = nn.Dropout(0.5)\n",
        "        self.act1 = nn.ReLU()\n",
        "        \n",
        "        self.lin2 = nn.Linear(64, 48)\n",
        "        self.bn2 =  nn.BatchNorm1d(48)\n",
        "        self.d2 = nn.Dropout(0.5)\n",
        "        self.act2 = nn.ReLU()\n",
        "\n",
        "        self.lin3 = nn.Linear(48, 32)\n",
        "        self.bn3 = nn.BatchNorm1d(32)\n",
        "        self.d3 = nn.Dropout(0.5)\n",
        "        self.act3 = nn.ReLU()\n",
        "\n",
        "        self.lin4 = nn.Linear(32,32)\n",
        "        self.bn4 = nn.BatchNorm1d(32)\n",
        "        self.d4 = nn.Dropout(0.5)\n",
        "        self.act4 = nn.ReLU()\n",
        "\n",
        "        self.lin5 = nn.Linear(32,3)\n",
        "             \n",
        "    def forward(self, x):\n",
        "        x = self.lin1(x)\n",
        "        x = self.bn1(x)\n",
        "        x = self.act1(x)\n",
        "        x = self.d1(x)\n",
        "\n",
        "        x = self.lin2(x)\n",
        "        x = self.bn2(x)\n",
        "        x = self.act2(x)\n",
        "        x = self.d2(x)\n",
        "\n",
        "        x = self.lin3(x)\n",
        "        x = self.bn3(x)\n",
        "        x = self.act3(x)\n",
        "        x = self.d3(x)\n",
        "\n",
        "        x = self.lin4(x)\n",
        "        x = self.bn4(x)\n",
        "        x = self.act4(x)\n",
        "        x = self.d4(x)\n",
        "\n",
        "        x = self.lin5(x)\n",
        "        return x"
      ],
      "metadata": {
        "id": "wcqk75tf0Hac"
      },
      "execution_count": 700,
      "outputs": []
    },
    {
      "cell_type": "code",
      "source": [
        "model = MyNetBN()\n",
        "model.to(device)\n",
        "print(model)"
      ],
      "metadata": {
        "colab": {
          "base_uri": "https://localhost:8080/"
        },
        "id": "ODMmYXhN0lMs",
        "outputId": "d0f7a3c6-b5f8-48fa-ac6d-4a1ac0bee3ae"
      },
      "execution_count": 701,
      "outputs": [
        {
          "output_type": "stream",
          "name": "stdout",
          "text": [
            "MyNetBN(\n",
            "  (lin1): Linear(in_features=27, out_features=64, bias=True)\n",
            "  (bn1): BatchNorm1d(64, eps=1e-05, momentum=0.1, affine=True, track_running_stats=True)\n",
            "  (d1): Dropout(p=0.5, inplace=False)\n",
            "  (act1): ReLU()\n",
            "  (lin2): Linear(in_features=64, out_features=48, bias=True)\n",
            "  (bn2): BatchNorm1d(48, eps=1e-05, momentum=0.1, affine=True, track_running_stats=True)\n",
            "  (d2): Dropout(p=0.5, inplace=False)\n",
            "  (act2): ReLU()\n",
            "  (lin3): Linear(in_features=48, out_features=32, bias=True)\n",
            "  (bn3): BatchNorm1d(32, eps=1e-05, momentum=0.1, affine=True, track_running_stats=True)\n",
            "  (d3): Dropout(p=0.5, inplace=False)\n",
            "  (act3): ReLU()\n",
            "  (lin4): Linear(in_features=32, out_features=32, bias=True)\n",
            "  (bn4): BatchNorm1d(32, eps=1e-05, momentum=0.1, affine=True, track_running_stats=True)\n",
            "  (d4): Dropout(p=0.5, inplace=False)\n",
            "  (act4): ReLU()\n",
            "  (lin5): Linear(in_features=32, out_features=3, bias=True)\n",
            ")\n"
          ]
        }
      ]
    },
    {
      "cell_type": "code",
      "source": [
        "optimizer = torch.optim.Adam(model.parameters(), lr=1e-3)"
      ],
      "metadata": {
        "id": "cMJbMo5uPsjE"
      },
      "execution_count": 702,
      "outputs": []
    },
    {
      "cell_type": "code",
      "source": [
        "criterion = nn.CrossEntropyLoss()"
      ],
      "metadata": {
        "id": "U9ohRrGyPuoO"
      },
      "execution_count": 703,
      "outputs": []
    },
    {
      "cell_type": "code",
      "source": [
        "def get_accuracy(model, data):\n",
        "    correct = [0, 0, 0]\n",
        "    total = [0, 0, 0]\n",
        "    model.eval()\n",
        "    with torch.no_grad():\n",
        "      for inputs, labels in torch.utils.data.DataLoader(data, batch_size=256):\n",
        "          inputs, labels = inputs.to(device), labels.to(device)\n",
        "          outputs = model(inputs).squeeze()\n",
        "          pred = outputs.max(1, keepdim=True)[1] # get the index of the max logit\n",
        "          for i in range(3):\n",
        "            correct[i] += pred[labels == i].eq(labels[labels == i].view_as(pred[labels == i])).sum().item()\n",
        "            total[i] += len(pred[labels == i])\n",
        "      acc = [correct[i]/total[i] for i in range(3)]\n",
        "      return [ sum(acc)/len(acc), acc]"
      ],
      "metadata": {
        "id": "rBN77BgvMSxz"
      },
      "execution_count": 704,
      "outputs": []
    },
    {
      "cell_type": "code",
      "source": [
        "# Training loop\n",
        "iters, losses, train_acc_mean, val_acc_mean = [], [], [], []\n",
        "train_acc, val_acc = [[], [], []], [[], [], []]\n",
        "idx = 0\n",
        "for epoch in range(200): \n",
        "  for inputs, labels in train_data_loader:\n",
        "    labels = labels.type(torch.LongTensor)\n",
        "    inputs, labels = inputs.to(device), labels.to(device)\n",
        "    model.train()\n",
        "    outputs = model(inputs)\n",
        "    \n",
        "    loss = criterion(outputs, labels)\n",
        "\n",
        "    optimizer.zero_grad()\n",
        "    loss.backward()\n",
        "    optimizer.step()\n",
        "\n",
        "    if idx % 64 == 63:\n",
        "      iters.append(idx)\n",
        "      losses.append(float(loss)/batch_size)\n",
        "      tr_acc = get_accuracy(model, train_dataset);\n",
        "      va_acc = get_accuracy(model, val_dataset);\n",
        "      for i in range(3):\n",
        "        train_acc[i].append(tr_acc[1][i])\n",
        "        val_acc[i].append(va_acc[1][i])\n",
        "      train_acc_mean.append(tr_acc[0])\n",
        "      val_acc_mean.append(va_acc[0])\n",
        "    idx+=1\n",
        "\n",
        "# plotting\n",
        "plt.figure(figsize=(15,8))\n",
        "plt.subplot(2,3,1)\n",
        "plt.title(\"Training Curve\")\n",
        "plt.plot(iters, losses, label=\"Train\")\n",
        "plt.xlabel(\"Iterations\")\n",
        "plt.ylabel(\"Loss\")\n",
        "\n",
        "plt.subplot(2,3,2)\n",
        "plt.title(\"Training\")\n",
        "plt.plot(iters, train_acc_mean, label=\"Train\")\n",
        "plt.plot(iters, val_acc_mean, label=\"Validation\")\n",
        "plt.xlabel(\"Iterations\")\n",
        "plt.ylabel(\"Training Accuracy\")\n",
        "plt.legend(loc='best')\n",
        "plt.show()\n",
        "\n",
        "plt.figure(figsize=(15,8))\n",
        "plt.subplot(2,3,4)\n",
        "plt.title(\"Training Class 0\")\n",
        "plt.plot(iters, train_acc[0], label=\"Train\")\n",
        "plt.plot(iters, val_acc[0], label=\"Validation\")\n",
        "plt.xlabel(\"Iterations\")\n",
        "plt.ylabel(\"Training Accuracy\")\n",
        "plt.legend(loc='best')\n",
        "\n",
        "plt.subplot(2,3,5)\n",
        "plt.title(\"Training Class 1\")\n",
        "plt.plot(iters, train_acc[1], label=\"Train\")\n",
        "plt.plot(iters, val_acc[1], label=\"Validation\")\n",
        "plt.xlabel(\"Iterations\")\n",
        "plt.ylabel(\"Training Accuracy\")\n",
        "plt.legend(loc='best')\n",
        "\n",
        "plt.subplot(2,3,6)\n",
        "plt.title(\"Training Class 2\")\n",
        "plt.plot(iters, train_acc[2], label=\"Train\")\n",
        "plt.plot(iters, val_acc[2], label=\"Validation\")\n",
        "plt.xlabel(\"Iterations\")\n",
        "plt.ylabel(\"Training Accuracy\")\n",
        "plt.legend(loc='best')\n",
        "plt.show()\n",
        "\n",
        "print(\"Final Training Accuracy: {}\".format(train_acc_mean[-1]))\n",
        "print(\"Final Validation Accuracy: {}\".format(val_acc_mean[-1]))"
      ],
      "metadata": {
        "id": "_2L4LoNIPxAh",
        "colab": {
          "base_uri": "https://localhost:8080/",
          "height": 572
        },
        "outputId": "b01d2b7a-3649-4e2c-c965-8a4d06975f28"
      },
      "execution_count": 705,
      "outputs": [
        {
          "output_type": "display_data",
          "data": {
            "text/plain": [
              "<Figure size 1080x576 with 2 Axes>"
            ],
            "image/png": "[encoded data removed]"
          },
          "metadata": {
            "needs_background": "light"
          }
        },
        {
          "output_type": "display_data",
          "data": {
            "text/plain": [
              "<Figure size 1080x576 with 3 Axes>"
            ],
            "image/png": "[encoded data removed]"
          },
          "metadata": {
            "needs_background": "light"
          }
        },
        {
          "output_type": "stream",
          "name": "stdout",
          "text": [
            "Final Training Accuracy: 0.8683423789575261\n",
            "Final Validation Accuracy: 0.8909851108537378\n"
          ]
        }
      ]
    },
    {
      "cell_type": "code",
      "source": [
        "print(get_accuracy(model, train_dataset)) # compute training accuracy \n",
        "print(get_accuracy(model, val_dataset))"
      ],
      "metadata": {
        "id": "NSrXt0AMeUCN",
        "colab": {
          "base_uri": "https://localhost:8080/"
        },
        "outputId": "cca0fccb-653e-4b51-f2b8-c294dfd3b2ae"
      },
      "execution_count": 706,
      "outputs": [
        {
          "output_type": "stream",
          "name": "stdout",
          "text": [
            "[0.8684802909696624, [0.9866962305986696, 0.822920976417046, 0.7958236658932715]]\n",
            "[0.8915648209986653, [0.990990990990991, 0.8347826086956521, 0.8489208633093526]]\n"
          ]
        }
      ]
    },
    {
      "cell_type": "code",
      "source": [
        "model.eval()\n",
        "preds = []\n",
        "labelsList = []\n",
        "with torch.no_grad():\n",
        "      for inputs, labels in torch.utils.data.DataLoader(val_dataset, batch_size=256):\n",
        "          labels = labels.type(torch.LongTensor)\n",
        "          inputs, labels = inputs.to(device), labels.to(device)\n",
        "          outputs = model(inputs).squeeze()\n",
        "          labelsList += labels.cpu().tolist()\n",
        "          preds += outputs.max(1)[1].cpu().tolist() # get the index of the max logit\n",
        "plt.figure(figsize=(10,4))\n",
        "plt.subplot(1,2,1)\n",
        "plt.hist(preds)\n",
        "plt.xlabel(\"Val\")\n",
        "plt.ylabel(\"Count\")\n",
        "plt.title(\"Preds\")\n",
        "plt.subplot(1,2,2)\n",
        "plt.hist(labelsList)\n",
        "plt.xlabel(\"Val\")\n",
        "plt.ylabel(\"Count\")\n",
        "plt.title(\"Labels\")"
      ],
      "metadata": {
        "id": "F6SEgIq4OwPa",
        "colab": {
          "base_uri": "https://localhost:8080/",
          "height": 313
        },
        "outputId": "94be9e86-3225-4b36-c8d6-31de26f53270"
      },
      "execution_count": 707,
      "outputs": [
        {
          "output_type": "execute_result",
          "data": {
            "text/plain": [
              "Text(0.5, 1.0, 'Labels')"
            ]
          },
          "metadata": {},
          "execution_count": 707
        },
        {
          "output_type": "display_data",
          "data": {
            "text/plain": [
              "<Figure size 720x288 with 2 Axes>"
            ],
            "image/png": "[encoded data removed]"
          },
          "metadata": {
            "needs_background": "light"
          }
        }
      ]
    },
    {
      "cell_type": "code",
      "source": [
        "test_dataset = data.TensorDataset(torch.from_numpy(processed_data_test).float(),torch.ones_like(torch.from_numpy(processed_data_test[:,0])))\n",
        "model.eval()\n",
        "preds = []\n",
        "with torch.no_grad():\n",
        "      for inputs, labels in data.DataLoader(test_dataset, batch_size=256, shuffle=False):\n",
        "          inputs, labels = inputs.to(device), labels.to(device)\n",
        "          outputs = model(inputs).squeeze()\n",
        "          preds += outputs.max(1)[1].cpu().tolist() # get the index of the max logit\n",
        "plt.figure(figsize=(5,4))\n",
        "plt.hist(preds)\n",
        "plt.xlabel(\"Val\")\n",
        "plt.ylabel(\"Count\")\n",
        "plt.title(\"Preds\")"
      ],
      "metadata": {
        "id": "vaVPBp3xTxsp",
        "colab": {
          "base_uri": "https://localhost:8080/",
          "height": 313
        },
        "outputId": "1ce5a9c9-cb8b-4a53-8f7d-9dffae77c056"
      },
      "execution_count": 708,
      "outputs": [
        {
          "output_type": "execute_result",
          "data": {
            "text/plain": [
              "Text(0.5, 1.0, 'Preds')"
            ]
          },
          "metadata": {},
          "execution_count": 708
        },
        {
          "output_type": "display_data",
          "data": {
            "text/plain": [
              "<Figure size 360x288 with 1 Axes>"
            ],
            "image/png": "[encoded data removed]"
          },
          "metadata": {
            "needs_background": "light"
          }
        }
      ]
    },
    {
      "cell_type": "code",
      "source": [
        "preds = pd.DataFrame(np.array(preds))\n",
        "preds.to_csv(\"Bielak_Nitkiewicz.csv\",index=False, header=None) #save to file\n",
        "\n",
        "#Then, to reload:\n",
        "df = pd.read_csv(\"Bielak_Nitkiewicz.csv\", header=None)\n",
        "df"
      ],
      "metadata": {
        "colab": {
          "base_uri": "https://localhost:8080/",
          "height": 423
        },
        "id": "2sp-iRGX-dxW",
        "outputId": "440d1d9f-1236-4784-d4b9-cdd0edcab639"
      },
      "execution_count": 709,
      "outputs": [
        {
          "output_type": "execute_result",
          "data": {
            "text/plain": [
              "      0\n",
              "0     1\n",
              "1     1\n",
              "2     2\n",
              "3     1\n",
              "4     1\n",
              "...  ..\n",
              "1762  2\n",
              "1763  1\n",
              "1764  0\n",
              "1765  1\n",
              "1766  1\n",
              "\n",
              "[1767 rows x 1 columns]"
            ],
            "text/html": [
              "\n",
              "  <div id=\"df-65e539cf-1269-4165-8edf-753e5b7d71d5\">\n",
              "    <div class=\"colab-df-container\">\n",
              "      <div>\n",
              "<style scoped>\n",
              "    .dataframe tbody tr th:only-of-type {\n",
              "        vertical-align: middle;\n",
              "    }\n",
              "\n",
              "    .dataframe tbody tr th {\n",
              "        vertical-align: top;\n",
              "    }\n",
              "\n",
              "    .dataframe thead th {\n",
              "        text-align: right;\n",
              "    }\n",
              "</style>\n",
              "<table border=\"1\" class=\"dataframe\">\n",
              "  <thead>\n",
              "    <tr style=\"text-align: right;\">\n",
              "      <th></th>\n",
              "      <th>0</th>\n",
              "    </tr>\n",
              "  </thead>\n",
              "  <tbody>\n",
              "    <tr>\n",
              "      <th>0</th>\n",
              "      <td>1</td>\n",
              "    </tr>\n",
              "    <tr>\n",
              "      <th>1</th>\n",
              "      <td>1</td>\n",
              "    </tr>\n",
              "    <tr>\n",
              "      <th>2</th>\n",
              "      <td>2</td>\n",
              "    </tr>\n",
              "    <tr>\n",
              "      <th>3</th>\n",
              "      <td>1</td>\n",
              "    </tr>\n",
              "    <tr>\n",
              "      <th>4</th>\n",
              "      <td>1</td>\n",
              "    </tr>\n",
              "    <tr>\n",
              "      <th>...</th>\n",
              "      <td>...</td>\n",
              "    </tr>\n",
              "    <tr>\n",
              "      <th>1762</th>\n",
              "      <td>2</td>\n",
              "    </tr>\n",
              "    <tr>\n",
              "      <th>1763</th>\n",
              "      <td>1</td>\n",
              "    </tr>\n",
              "    <tr>\n",
              "      <th>1764</th>\n",
              "      <td>0</td>\n",
              "    </tr>\n",
              "    <tr>\n",
              "      <th>1765</th>\n",
              "      <td>1</td>\n",
              "    </tr>\n",
              "    <tr>\n",
              "      <th>1766</th>\n",
              "      <td>1</td>\n",
              "    </tr>\n",
              "  </tbody>\n",
              "</table>\n",
              "<p>1767 rows × 1 columns</p>\n",
              "</div>\n",
              "      <button class=\"colab-df-convert\" onclick=\"convertToInteractive('df-65e539cf-1269-4165-8edf-753e5b7d71d5')\"\n",
              "              title=\"Convert this dataframe to an interactive table.\"\n",
              "              style=\"display:none;\">\n",
              "        \n",
              "  <svg xmlns=\"http://www.w3.org/2000/svg\" height=\"24px\"viewBox=\"0 0 24 24\"\n",
              "       width=\"24px\">\n",
              "    <path d=\"M0 0h24v24H0V0z\" fill=\"none\"/>\n",
              "    <path d=\"M18.56 5.44l.94 2.06.94-2.06 2.06-.94-2.06-.94-.94-2.06-.94 2.06-2.06.94zm-11 1L8.5 8.5l.94-2.06 2.06-.94-2.06-.94L8.5 2.5l-.94 2.06-2.06.94zm10 10l.94 2.06.94-2.06 2.06-.94-2.06-.94-.94-2.06-.94 2.06-2.06.94z\"/><path d=\"M17.41 7.96l-1.37-1.37c-.4-.4-.92-.59-1.43-.59-.52 0-1.04.2-1.43.59L10.3 9.45l-7.72 7.72c-.78.78-.78 2.05 0 2.83L4 21.41c.39.39.9.59 1.41.59.51 0 1.02-.2 1.41-.59l7.78-7.78 2.81-2.81c.8-.78.8-2.07 0-2.86zM5.41 20L4 18.59l7.72-7.72 1.47 1.35L5.41 20z\"/>\n",
              "  </svg>\n",
              "      </button>\n",
              "      \n",
              "  <style>\n",
              "    .colab-df-container {\n",
              "      display:flex;\n",
              "      flex-wrap:wrap;\n",
              "      gap: 12px;\n",
              "    }\n",
              "\n",
              "    .colab-df-convert {\n",
              "      background-color: #E8F0FE;\n",
              "      border: none;\n",
              "      border-radius: 50%;\n",
              "      cursor: pointer;\n",
              "      display: none;\n",
              "      fill: #1967D2;\n",
              "      height: 32px;\n",
              "      padding: 0 0 0 0;\n",
              "      width: 32px;\n",
              "    }\n",
              "\n",
              "    .colab-df-convert:hover {\n",
              "      background-color: #E2EBFA;\n",
              "      box-shadow: 0px 1px 2px rgba(60, 64, 67, 0.3), 0px 1px 3px 1px rgba(60, 64, 67, 0.15);\n",
              "      fill: #174EA6;\n",
              "    }\n",
              "\n",
              "    [theme=dark] .colab-df-convert {\n",
              "      background-color: #3B4455;\n",
              "      fill: #D2E3FC;\n",
              "    }\n",
              "\n",
              "    [theme=dark] .colab-df-convert:hover {\n",
              "      background-color: #434B5C;\n",
              "      box-shadow: 0px 1px 3px 1px rgba(0, 0, 0, 0.15);\n",
              "      filter: drop-shadow(0px 1px 2px rgba(0, 0, 0, 0.3));\n",
              "      fill: #FFFFFF;\n",
              "    }\n",
              "  </style>\n",
              "\n",
              "      <script>\n",
              "        const buttonEl =\n",
              "          document.querySelector('#df-65e539cf-1269-4165-8edf-753e5b7d71d5 button.colab-df-convert');\n",
              "        buttonEl.style.display =\n",
              "          google.colab.kernel.accessAllowed ? 'block' : 'none';\n",
              "\n",
              "        async function convertToInteractive(key) {\n",
              "          const element = document.querySelector('#df-65e539cf-1269-4165-8edf-753e5b7d71d5');\n",
              "          const dataTable =\n",
              "            await google.colab.kernel.invokeFunction('convertToInteractive',\n",
              "                                                     [key], {});\n",
              "          if (!dataTable) return;\n",
              "\n",
              "          const docLinkHtml = 'Like what you see? Visit the ' +\n",
              "            '<a target=\"_blank\" href=https://colab.research.google.com/notebooks/data_table.ipynb>data table notebook</a>'\n",
              "            + ' to learn more about interactive tables.';\n",
              "          element.innerHTML = '';\n",
              "          dataTable['output_type'] = 'display_data';\n",
              "          await google.colab.output.renderOutput(dataTable, element);\n",
              "          const docLink = document.createElement('div');\n",
              "          docLink.innerHTML = docLinkHtml;\n",
              "          element.appendChild(docLink);\n",
              "        }\n",
              "      </script>\n",
              "    </div>\n",
              "  </div>\n",
              "  "
            ]
          },
          "metadata": {},
          "execution_count": 709
        }
      ]
    }
  ]
}